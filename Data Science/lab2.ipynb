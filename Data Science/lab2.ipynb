{
 "cells": [
  {
   "cell_type": "markdown",
   "metadata": {},
   "source": [
    "# The Process of Data Science CSCI 4146\n",
    "\n",
    "## Lab Session 2\n",
    "\n",
    "## Fibonacci"
   ]
  },
  {
   "cell_type": "code",
   "execution_count": 4,
   "metadata": {
    "collapsed": true
   },
   "outputs": [],
   "source": [
    "def fib(n):\n",
    "    a, b = 0, 1\n",
    "    for _ in range(n):\n",
    "        a, b = b, a + b\n",
    "    return b"
   ]
  },
  {
   "cell_type": "code",
   "execution_count": 5,
   "metadata": {},
   "outputs": [
    {
     "name": "stdout",
     "output_type": "stream",
     "text": [
      "89\n"
     ]
    }
   ],
   "source": [
    "print(fib(10))"
   ]
  },
  {
   "cell_type": "code",
   "execution_count": 6,
   "metadata": {},
   "outputs": [
    {
     "name": "stdout",
     "output_type": "stream",
     "text": [
      "[1, 2, 3, 4, 5]\n[1, 2, 3, 4, 5, 6]\n[10, 1, 2, 3, 4, 5, 6]\n[1, 2, 3, 4, 5, 6, 10]\n[10, 6, 5, 4, 3, 2, 1]\n[6, 5, 4, 3, 2, 1]\n1\n[6, 5, 4, 3, 2]\n3\n[6, 5, 4, 2]\n3\n"
     ]
    }
   ],
   "source": [
    "a = [1, 2, 3, 4, 5]\n",
    "print(a)\n",
    "\n",
    "a.append(6)\n",
    "print(a)\n",
    "\n",
    "a.insert(0, 10)\n",
    "print(a)\n",
    "\n",
    "a.sort()\n",
    "print(a)\n",
    "a.reverse()\n",
    "print(a)\n",
    "\n",
    "a.remove(10)\n",
    "print(a)\n",
    "\n",
    "print(a.pop())\n",
    "print(a)\n",
    "\n",
    "print(a.pop(3))\n",
    "print(a)\n",
    "\n",
    "print(a.index(2))"
   ]
  },
  {
   "cell_type": "markdown",
   "metadata": {},
   "source": [
    "## Define Function using Tuples"
   ]
  },
  {
   "cell_type": "code",
   "execution_count": 7,
   "metadata": {},
   "outputs": [],
   "source": [
    "import math\n",
    "\n",
    "\n",
    "def euc_d(p1, p2):\n",
    "    (x1, y1) = p1\n",
    "    (x2, y2) = p2\n",
    "    return math.sqrt((x2-x1)**2 + (y2-y1)**2)"
   ]
  },
  {
   "cell_type": "code",
   "execution_count": 8,
   "metadata": {},
   "outputs": [
    {
     "name": "stdout",
     "output_type": "stream",
     "text": [
      "4.123105625617661\n"
     ]
    }
   ],
   "source": [
    "print(euc_d((4, 2), (3, 6)))"
   ]
  },
  {
   "cell_type": "markdown",
   "metadata": {},
   "source": [
    "## Dictionaries"
   ]
  },
  {
   "cell_type": "code",
   "execution_count": 9,
   "metadata": {},
   "outputs": [
    {
     "name": "stdout",
     "output_type": "stream",
     "text": [
      "{1: 'blue', 2: 'green', 3: 'red', 4: 'black', 5: 'yellow'}\n"
     ]
    }
   ],
   "source": [
    "dic = {}\n",
    "dic[1] = 'blue'\n",
    "dic[2] = 'green'\n",
    "dic[3] = 'red'\n",
    "dic[4] = 'black'\n",
    "dic[5] = 'yellow'\n",
    "print(dic)"
   ]
  },
  {
   "cell_type": "markdown",
   "metadata": {},
   "source": [
    "## Practice: Define a new dictionary that each key is the string color and the value is the number"
   ]
  },
  {
   "cell_type": "code",
   "execution_count": 10,
   "metadata": {},
   "outputs": [
    {
     "name": "stdout",
     "output_type": "stream",
     "text": [
      "{'blue': 1, 'green': 2, 'red': 3, 'black': 4, 'yellow': 5}\n"
     ]
    }
   ],
   "source": [
    "map = {\n",
    "    'blue': 1,\n",
    "    'green': 2,\n",
    "    'red': 3,\n",
    "    'black': 4,\n",
    "    'yellow': 5\n",
    "}\n",
    "print(map)"
   ]
  },
  {
   "cell_type": "markdown",
   "metadata": {},
   "source": [
    "## Test and Regular Expression"
   ]
  },
  {
   "cell_type": "code",
   "execution_count": 11,
   "metadata": {},
   "outputs": [
    {
     "data": {
      "text/plain": [
       "11"
      ]
     },
     "execution_count": 11,
     "metadata": {},
     "output_type": "execute_result"
    }
   ],
   "source": [
    "text1 = 'j     jjjjj'\n",
    "len(text1)"
   ]
  },
  {
   "cell_type": "code",
   "execution_count": 12,
   "metadata": {},
   "outputs": [
    {
     "data": {
      "text/plain": [
       "6"
      ]
     },
     "execution_count": 12,
     "metadata": {},
     "output_type": "execute_result"
    }
   ],
   "source": [
    "text2 = text1.split(' ')\n",
    "len(text2)"
   ]
  },
  {
   "cell_type": "code",
   "execution_count": 13,
   "metadata": {},
   "outputs": [
    {
     "data": {
      "text/plain": [
       "['#dictionary']"
      ]
     },
     "execution_count": 13,
     "metadata": {},
     "output_type": "execute_result"
    }
   ],
   "source": [
    "t0 = \"Practice define a new #dictionary that each key is a string @color and the value is the relevant number\"\n",
    "t = t0.split(' ')\n",
    "[w for w in t if w.startswith('#')]"
   ]
  },
  {
   "cell_type": "markdown",
   "metadata": {},
   "source": [
    "## Regular Expressions"
   ]
  },
  {
   "cell_type": "code",
   "execution_count": 14,
   "metadata": {},
   "outputs": [
    {
     "data": {
      "text/plain": [
       "['@color']"
      ]
     },
     "execution_count": 14,
     "metadata": {},
     "output_type": "execute_result"
    }
   ],
   "source": [
    "import re\n",
    "\n",
    "[w for w in t if re.search('@[A-Za-z0-9_]+', w)]"
   ]
  },
  {
   "cell_type": "markdown",
   "metadata": {},
   "source": [
    "## Read a Text File"
   ]
  },
  {
   "cell_type": "code",
   "execution_count": 15,
   "metadata": {},
   "outputs": [
    {
     "data": {
      "text/plain": [
       "0                                  TOM SAWYER ABROAD\\n\n1                                                   \\n\n2                                         CHAPTER I.\\n\n3                           TOM SEEKS NEW ADVENTURES\\n\n4                                                   \\n\n5    DO you reckon Tom Sawyer was satisfied after a...\n6      them adventures? I mean the adventures we had\\n\n7    down the river, and the time we set the darky ...\n8    and Tom got shot in the leg. No, he wasn't. It...\n9    just p'isoned him for more. That was all the e...\ndtype: object"
      ]
     },
     "execution_count": 15,
     "metadata": {},
     "output_type": "execute_result"
    }
   ],
   "source": [
    "import pandas as pd  # for reading and writing files\n",
    "\n",
    "doc = []\n",
    "with open('tom.txt') as file:\n",
    "    for line in file:\n",
    "        doc.append(line)\n",
    "\n",
    "df = pd.Series(doc)\n",
    "df.head(10)"
   ]
  },
  {
   "cell_type": "code",
   "execution_count": 16,
   "metadata": {},
   "outputs": [
    {
     "data": {
      "text/plain": [
       "0          reckon\n1          river,\n2         river\\n\n3        received\n4           river\n5            raft\n6      reputation\n7    reputation\\n\n8        reckoned\n9           rest,\ndtype: object"
      ]
     },
     "execution_count": 16,
     "metadata": {},
     "output_type": "execute_result"
    }
   ],
   "source": [
    "# extract words that start with the letter r\n",
    "\n",
    "doc_r = []\n",
    "with open('tom.txt') as file:\n",
    "    for line in file:\n",
    "        words = line.split(' ')\n",
    "        for w in words:\n",
    "            if w.startswith('r'):\n",
    "                doc_r.append(w)\n",
    "\n",
    "df = pd.Series(doc_r)\n",
    "df.head(10)"
   ]
  },
  {
   "cell_type": "code",
   "execution_count": 17,
   "metadata": {},
   "outputs": [
    {
     "name": "stdout",
     "output_type": "stream",
     "text": [
      "    DEPARTMENT                             DIVISION       PROGRAM NAME  \\\n0  Agriculture  Programs & Business Risk Management  Homegrown Success   \n1  Agriculture  Programs & Business Risk Management  Homegrown Success   \n2  Agriculture  Programs & Business Risk Management  Homegrown Success   \n3  Agriculture  Programs & Business Risk Management  Homegrown Success   \n4  Agriculture  Programs & Business Risk Management  Homegrown Success   \n\n                     RECIPIENT PAYMENT AMOUNT  FISCAL YEAR  \n0                   3 Dot Farm      $14882.24  2015 - 2016  \n1  3051719 Nova Scotia Limited       $4961.00  2015 - 2016  \n2  3261372 Nova Scotia Limited       $4495.94  2015 - 2016  \n3         A & J Bent Farms Ltd       $2764.48  2015 - 2016  \n4                  Adam Ripley       $1298.78  2015 - 2016  \n"
     ]
    }
   ],
   "source": [
    "# load csv file\n",
    "\n",
    "import pandas as pd\n",
    "\n",
    "df = pd.read_csv('data1.csv')\n",
    "print(df.head())"
   ]
  },
  {
   "cell_type": "code",
   "execution_count": 18,
   "metadata": {},
   "outputs": [
    {
     "name": "stdout",
     "output_type": "stream",
     "text": [
      "Index(['DEPARTMENT', 'DIVISION', 'PROGRAM NAME', 'RECIPIENT', 'PAYMENT AMOUNT',\n       'FISCAL YEAR'],\n      dtype='object')\n"
     ]
    }
   ],
   "source": [
    "print(df.columns)"
   ]
  },
  {
   "cell_type": "code",
   "execution_count": 19,
   "metadata": {},
   "outputs": [
    {
     "name": "stdout",
     "output_type": "stream",
     "text": [
      "0       $14882.24\n1        $4961.00\n2        $4495.94\n3        $2764.48\n4        $1298.78\n5        $2967.53\n6       $24750.00\n7        $2375.08\n8        $1532.79\n9        $3421.56\n10        $486.50\n11       $1132.68\n12        $375.00\n13       $8795.05\n14       $3000.00\n15        $832.18\n16      $12340.40\n17      $12830.00\n18      $15140.63\n19        $900.00\n20        $864.26\n21       $3190.08\n22       $5901.24\n23      $10068.31\n24      $30000.00\n25        $191.69\n26       $2236.61\n27      $32111.00\n28       $5013.93\n29       $5533.76\n          ...    \n1163    $27697.57\n1164     $6036.48\n1165    $65179.55\n1166     $7822.93\n1167    $93774.20\n1168     $5255.54\n1169    $64870.91\n1170    $70412.97\n1171     $5738.20\n1172     $1389.88\n1173     $7928.12\n1174    $44393.33\n1175    $14296.03\n1176     $5962.48\n1177     $1997.24\n1178     $1012.50\n1179    $11105.70\n1180    $28034.58\n1181    $30000.00\n1182    $30000.00\n1183    $22047.05\n1184    $30000.00\n1185    $30000.00\n1186    $17545.38\n1187    $18139.19\n1188    $30000.00\n1189    $30000.00\n1190    $18571.50\n1191     $7215.02\n1192    $20000.00\nName: PAYMENT AMOUNT, Length: 1193, dtype: object\n"
     ]
    }
   ],
   "source": [
    "print(df.loc[:, 'PAYMENT AMOUNT'])"
   ]
  },
  {
   "cell_type": "code",
   "execution_count": 20,
   "metadata": {},
   "outputs": [
    {
     "name": "stdout",
     "output_type": "stream",
     "text": [
      "0    $14882.24\n1     $4961.00\n2     $4495.94\n3     $2764.48\nName: PAYMENT AMOUNT, dtype: object\n"
     ]
    }
   ],
   "source": [
    "print(df.loc[0:3, 'PAYMENT AMOUNT'])"
   ]
  },
  {
   "cell_type": "code",
   "execution_count": 27,
   "metadata": {},
   "outputs": [
    {
     "name": "stdout",
     "output_type": "stream",
     "text": [
      "PAYMENT AMOUNT:\nmean:  10211.1588181\nvariance:  243114775.233\nstd dev:  15592.1382508\nmedian:  5472.96\nmax:  182596.55\nmin:  32.39\n"
     ]
    }
   ],
   "source": [
    "import numpy as np\n",
    "import pandas as pd\n",
    "\n",
    "df = pd.read_csv('data1.csv')\n",
    "\n",
    "a = []\n",
    "for i in df.loc[:, 'PAYMENT AMOUNT']:\n",
    "    a.append(float((i.split('$')[1])))\n",
    "\n",
    "payment_amounts = np.array(a)\n",
    "print(\"PAYMENT AMOUNT:\")\n",
    "print(\"mean: \", payment_amounts.mean())\n",
    "print(\"variance: \", payment_amounts.var())\n",
    "print(\"std dev: \", payment_amounts.std())\n",
    "print(\"median: \", np.median(payment_amounts))\n",
    "print(\"max: \", payment_amounts.max())\n",
    "print(\"min: \", payment_amounts.min())"
   ]
  },
  {
   "cell_type": "code",
   "execution_count": 29,
   "metadata": {},
   "outputs": [
    {
     "data": {
      "text/plain": [
       "Index(['DEPARTMENT', 'DIVISION', 'PROGRAM NAME', 'RECIPIENT', 'PAYMENT AMOUNT',\n       'FISCAL YEAR'],\n      dtype='object')"
      ]
     },
     "execution_count": 29,
     "metadata": {},
     "output_type": "execute_result"
    }
   ],
   "source": [
    "df.columns"
   ]
  },
  {
   "cell_type": "code",
   "execution_count": 31,
   "metadata": {},
   "outputs": [
    {
     "name": "stdout",
     "output_type": "stream",
     "text": [
      "{'Agriculture': 1193}\n"
     ]
    }
   ],
   "source": [
    "departments = {}\n",
    "for data in df.loc[:, 'DEPARTMENT']:\n",
    "    if data in departments:\n",
    "        departments[data] += 1\n",
    "    else:\n",
    "        departments[data] = 1\n",
    "print(departments)"
   ]
  },
  {
   "cell_type": "code",
   "execution_count": 32,
   "metadata": {},
   "outputs": [
    {
     "name": "stdout",
     "output_type": "stream",
     "text": [
      "{'Programs & Business Risk Management': 1193}\n"
     ]
    }
   ],
   "source": [
    "divisions = {}\n",
    "for data in df.loc[:, 'DIVISION']:\n",
    "    if data in divisions:\n",
    "        divisions[data] += 1\n",
    "    else:\n",
    "        divisions[data] = 1\n",
    "print(divisions)"
   ]
  },
  {
   "cell_type": "code",
   "execution_count": 42,
   "metadata": {},
   "outputs": [
    {
     "name": "stdout",
     "output_type": "stream",
     "text": [
      "{'Homegrown Success': 772, 'Farm Innovation': 54, 'Lowbush Blueberry Development': 51, 'FarmNext': 9, 'Canada-Nova Scotia Fire Blight Initiative ': 18, 'Canada-Nova Scotia Maple Sector Initiative': 9, 'Agri-products Innovation & Commercialization': 3, 'Building Industry Capacity': 12, 'Commingling Site Traceability': 9, 'Pollination Expansion ': 24, 'Research Acceleration': 7, 'Vineyard Development & Expansion': 25, 'Market Development & Investment Attraction': 7, 'Low Bush Blueberry Development': 33, 'Pollination Expansion': 28, 'Market Development and Investment Atttraction': 8, 'BioProducts Pilot Program': 2, 'Research Acceleration Program': 16, 'Vineyard Development and Expansion Program ': 27, 'Canada Nova Scotia Maple Sector Initiative': 28, 'Canada Nova Scotia Fire Blight Initiative': 33, 'Commingling Site Traceability Program': 4, 'Traceability Pilot Project Program': 2, 'FarmNEXT Program': 9, 'Agri-Products Innovation and Commercialization Program': 3}\n\nNumber of distinct programs:  25\nMost frequent program name is Homegrown Success:  772\n"
     ]
    }
   ],
   "source": [
    "programs = {}\n",
    "for data in df.loc[:, 'PROGRAM NAME']:\n",
    "    if data in programs:\n",
    "        programs[data] += 1\n",
    "    else:\n",
    "        programs[data] = 1\n",
    "print(programs)\n",
    "print(\"\\nNumber of distinct programs: \", len(programs.keys()))\n",
    "print(\"Most frequent program name is Homegrown Success: \", programs['Homegrown Success'])"
   ]
  },
  {
   "cell_type": "code",
   "execution_count": 45,
   "metadata": {},
   "outputs": [
    {
     "name": "stdout",
     "output_type": "stream",
     "text": [
      "Number of distinct recipients:  871\nCape House Vineyard: 4\nCogmagun Poultry Processing Co. Ltd.: 4\nDempsey Corner Orchards: 4\nGeorge Dorn: 4\nHaveracres Maple Farm: 4\nHorticulture Nova Scotia: 7\nHorticulture NS: 5\nHidden Mountain Maple Farms: 6\nDalhousie Agricultural Campus: 7\nDalhousie University: 15\nNumber of recipients that occur 4 or more times:  10\n"
     ]
    }
   ],
   "source": [
    "recipients = {}\n",
    "for data in df.loc[:, 'RECIPIENT']:\n",
    "    if data in recipients:\n",
    "        recipients[data] += 1\n",
    "    else:\n",
    "        recipients[data] = 1\n",
    "\n",
    "print(\"Number of distinct recipients: \", len(recipients.keys()))\n",
    "count = 0\n",
    "for r in recipients:\n",
    "    if recipients[r] >= 4:\n",
    "        count += 1\n",
    "        print(\"{}: {}\".format(r, recipients[r]))\n",
    "print(\"Number of recipients that occur 4 or more times: \", count)"
   ]
  },
  {
   "cell_type": "code",
   "execution_count": 46,
   "metadata": {},
   "outputs": [
    {
     "name": "stdout",
     "output_type": "stream",
     "text": [
      "{'2015 - 2016': 542, '2016 - 2017': 651}\n"
     ]
    }
   ],
   "source": [
    "fiscal_years = {}\n",
    "for data in df.loc[:, 'FISCAL YEAR']:\n",
    "    if data in fiscal_years:\n",
    "        fiscal_years[data] += 1\n",
    "    else:\n",
    "        fiscal_years[data] = 1\n",
    "\n",
    "print(fiscal_years)"
   ]
  },
  {
   "cell_type": "code",
   "execution_count": 61,
   "metadata": {},
   "outputs": [
    {
     "name": "stdout",
     "output_type": "stream",
     "text": [
      "Total number of words in tom.txt:  760\n\nTotal number of lines in tom.txt:  83\n\nWords occurring more than 10 times:\nwas: 12\nthe: 39\nand: 53\nhe: 25\nhim: 11\nit: 12\nthat: 11\na: 16\nto: 17\n\nNumber of words occurring exactly 1 time: 261\n\nNumber of words occurring exactly 2 times: 55\n\nNumber of words occurring exactly 3 times: 22\n"
     ]
    }
   ],
   "source": [
    "doc = []\n",
    "line_count = 0\n",
    "with open('tom.txt') as file:\n",
    "    for line in file:\n",
    "        line_count += 1\n",
    "        words = line.split(' ')\n",
    "        for w in words:\n",
    "            doc.append(w.replace('\\n', ''))\n",
    "\n",
    "print(\"Total number of words in tom.txt: \", len(doc))\n",
    "print(\"\\nTotal number of lines in tom.txt: \", line_count)\n",
    "\n",
    "word_count = {}\n",
    "for w in doc:\n",
    "    if w in word_count:\n",
    "        word_count[w] += 1\n",
    "    else:\n",
    "        word_count[w] = 1\n",
    "\n",
    "print('\\nWords occurring more than 10 times:')\n",
    "for w in word_count:\n",
    "    if word_count[w] > 10:\n",
    "        print(\"{}: {}\".format(w, word_count[w]))\n",
    "\n",
    "\n",
    "count1 = 0\n",
    "for w in word_count:\n",
    "    if word_count[w] == 1:\n",
    "        count1 += 1\n",
    "print('\\nNumber of words occurring exactly 1 time:', count1)\n",
    "\n",
    "count2 = 0\n",
    "for w in word_count:\n",
    "    if word_count[w] == 2:\n",
    "        count2 += 1\n",
    "print('\\nNumber of words occurring exactly 2 times:', count2)\n",
    "\n",
    "count3 = 0\n",
    "for w in word_count:\n",
    "    if word_count[w] == 3:\n",
    "        count3 += 1\n",
    "print('\\nNumber of words occurring exactly 3 times:', count3)"
   ]
  },
  {
   "cell_type": "code",
   "execution_count": null,
   "metadata": {},
   "outputs": [],
   "source": [
    ""
   ]
  }
 ],
 "metadata": {
  "kernelspec": {
   "display_name": "Python 3",
   "language": "python",
   "name": "python3"
  },
  "language_info": {
   "codemirror_mode": {
    "name": "ipython",
    "version": 3.0
   },
   "file_extension": ".py",
   "mimetype": "text/x-python",
   "name": "python",
   "nbconvert_exporter": "python",
   "pygments_lexer": "ipython3",
   "version": "3.6.1"
  }
 },
 "nbformat": 4,
 "nbformat_minor": 0
}