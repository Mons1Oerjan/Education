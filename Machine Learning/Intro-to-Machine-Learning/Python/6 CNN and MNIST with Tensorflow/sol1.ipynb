{
 "cells": [
  {
   "cell_type": "code",
   "execution_count": 2,
   "metadata": {},
   "outputs": [
    {
     "data": {
      "text/plain": [
       "<matplotlib.image.AxesImage at 0x107dc1438>"
      ]
     },
     "execution_count": 2,
     "metadata": {},
     "output_type": "execute_result"
    }
   ],
   "source": [
    "from pylab import *\n",
    "\n",
    "# load image file\n",
    "img = imread('fence1.jpg')\n",
    "\n",
    "# access one of the three color channels\n",
    "img = img.T[0]\n",
    "img = img.T\n",
    "\n",
    "# show the image\n",
    "imshow(img)\n",
    "\n",
    "\n",
    "# function that calculates the component-wise sum and multiplication\n",
    "def edge_filter(input):\n",
    "    filter = [[1, -1], [1, -1]]\n",
    "    rows = input.shape[0]\n",
    "    cols = input.shape[1]\n",
    "    outputMatrix = []\n",
    "    \n",
    "    for i in range(rows - 1):\n",
    "        outputVector = []\n",
    "        for j in range(cols - 1):\n",
    "            subMatrix = [\n",
    "                [input[i][j], input[i][j+1]], \n",
    "                [input[i+1][j], input[i+1][j+1]]\n",
    "            ]\n",
    "            value = (subMatrix[0][0] * filter[0][0]) + \\\n",
    "                    (subMatrix[0][1] * filter[0][1]) + \\\n",
    "                    (subMatrix[1][0] * filter[1][0]) + \\\n",
    "                    (subMatrix[1][1] * filter[1][1])\n",
    "            outputVector.append(value)\n",
    "        outputMatrix.append(outputVector)\n",
    "    return outputMatrix\n",
    "    \n",
    "imshow(edge_filter(img))"
   ]
  },
  {
   "cell_type": "code",
   "execution_count": null,
   "metadata": {},
   "outputs": [],
   "source": [
    ""
   ]
  }
 ],
 "metadata": {},
 "nbformat": 4,
 "nbformat_minor": 0
}