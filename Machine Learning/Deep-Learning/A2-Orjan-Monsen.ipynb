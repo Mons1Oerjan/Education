{
 "cells": [
  {
   "cell_type": "markdown",
   "metadata": {
    "id": "JLrHFHoMHI3g",
    "colab_type": "text"
   },
   "source": [
    "# <center>Assignment 2</center>"
   ]
  },
  {
   "cell_type": "markdown",
   "metadata": {
    "id": "f1v-gL4cHI3h",
    "colab_type": "text"
   },
   "source": [
    "This assignment is based on the tensorflow tutorial. You can choose to code in Python2 or Python3. All the imports made in this notebook are as below; if these imports work, you are (mostly) set to complete the assignment."
   ]
  },
  {
   "cell_type": "code",
   "execution_count": 2,
   "metadata": {
    "id": "_ccE1kI0HI3i",
    "colab_type": "code",
    "colab": {
     "autoexec": {
      "startup": false,
      "wait_interval": 0.0
     }
    }
   },
   "outputs": [],
   "source": [
    "from __future__ import print_function, division\n",
    "import random \n",
    "import tensorflow as tf\n",
    "import numpy as np"
   ]
  },
  {
   "cell_type": "markdown",
   "metadata": {
    "id": "vWzfE86tusct",
    "colab_type": "text"
   },
   "source": [
    "## Tensorflow - Matrix Operations"
   ]
  },
  {
   "cell_type": "markdown",
   "metadata": {
    "id": "fVYXpj5bHI3m",
    "colab_type": "text"
   },
   "source": [
    "All the following questions should be solved without using any of python's in-built control structures : for, while, if-else, etc. In addition to the tutorial material, you may find these functions useful:\n",
    "* tf.cast\n",
    "* tf.range\n",
    "* tf.pow\n",
    "\n",
    "Also, the following functions are used in later part of the assignment: tf.sqrt and tf.square. "
   ]
  },
  {
   "cell_type": "markdown",
   "metadata": {
    "id": "zF2qLN2wHI3n",
    "colab_type": "text"
   },
   "source": [
    "### 1. Alternating addition"
   ]
  },
  {
   "cell_type": "code",
   "execution_count": 3,
   "metadata": {
    "id": "XRnQN-v_HI3p",
    "colab_type": "code",
    "colab": {
     "autoexec": {
      "startup": false,
      "wait_interval": 0.0
     }
    }
   },
   "outputs": [],
   "source": [
    "def alt_addition():\n",
    "    \"\"\"\n",
    "        Given a 1d-matrix of 1 x n, compute the alternating addition.\n",
    "        Ex: If A is\n",
    "        1 2 3 4 5 6 7 8 9\n",
    "        the return value should be 1 - 2 + 3 - 4 + 5 - 6 + 7 - 8 + 9.\n",
    "        Your solution shouldn't include the use of tf.where or tf.boolean_mask. \n",
    "        It should include only mathematical operations.\n",
    "    \"\"\"\n",
    "    A = tf.placeholder(dtype=tf.float64, shape=[1, None])\n",
    "    B = tf.subtract(tf.reduce_sum(A[0][::2]), tf.reduce_sum(A[0][1::2]))\n",
    "    return A, B"
   ]
  },
  {
   "cell_type": "code",
   "execution_count": 4,
   "metadata": {
    "id": "oYdnpKb9HI3r",
    "colab_type": "code",
    "colab": {
     "autoexec": {
      "startup": false,
      "wait_interval": 0.0
     }
    }
   },
   "outputs": [],
   "source": [
    "A, B = alt_addition()"
   ]
  },
  {
   "cell_type": "code",
   "execution_count": 5,
   "metadata": {
    "id": "DfONnxCQHI3t",
    "colab_type": "code",
    "colab": {
     "autoexec": {
      "startup": false,
      "wait_interval": 0.0
     }
    }
   },
   "outputs": [
    {
     "name": "stdout",
     "output_type": "stream",
     "text": [
      "Correct!\nCorrect!\nCorrect!\nCorrect!\nCorrect!\n"
     ]
    }
   ],
   "source": [
    "# Just run this cell after completing the function alt_addition.\n",
    "def compute_alt(array):\n",
    "    sum_ = 0\n",
    "    for index, i in enumerate(array):\n",
    "        if index % 2 == 0:\n",
    "            sum_ += i\n",
    "        else:\n",
    "            sum_ -= i\n",
    "    return sum_\n",
    "sess = tf.InteractiveSession()\n",
    "for num in [5, 10, 13, 20, 100]:\n",
    "    x = np.random.randn(num)\n",
    "    b = sess.run(B, feed_dict={A: x.reshape([1, -1])})\n",
    "    sum_ = compute_alt(x)\n",
    "    if abs(b - sum_) < 10**-10:\n",
    "        print(\"Correct!\")\n",
    "    else:\n",
    "        print(\"Incorrect.\")"
   ]
  },
  {
   "cell_type": "markdown",
   "metadata": {
    "id": "dp0kSC_IHI3v",
    "colab_type": "text"
   },
   "source": [
    "## 2. Odd Square and Even Cube"
   ]
  },
  {
   "cell_type": "code",
   "execution_count": 6,
   "metadata": {
    "id": "1VpsEt5eHI3v",
    "colab_type": "code",
    "colab": {
     "autoexec": {
      "startup": false,
      "wait_interval": 0.0
     }
    }
   },
   "outputs": [],
   "source": [
    "def sq_cube():\n",
    "    \"\"\"\n",
    "    Given a 2-d matrix of dimensions N x N, square the odd elements and cube the even elements.\n",
    "    Your solution shouldn't include the use of tf.where or tf.boolean_mask. \n",
    "    It should include only mathematical operations.\n",
    "    \"\"\"\n",
    "    A = tf.placeholder(dtype=tf.float64, shape=[None, None])\n",
    "    \n",
    "    # flag all odd and even elements in A\n",
    "    odds = A % 2\n",
    "    evens = tf.abs(A % 2 - 1)\n",
    "    \n",
    "    # fill in values from A\n",
    "    odds = odds * A\n",
    "    evens = evens * A\n",
    "    \n",
    "    # compute the squared and cubed values accordingly\n",
    "    odds = tf.square(odds)\n",
    "    evens = tf.pow(evens, 3)\n",
    "    \n",
    "    # merge them back together\n",
    "    B = odds + evens\n",
    "    \n",
    "    return A, B"
   ]
  },
  {
   "cell_type": "code",
   "execution_count": 7,
   "metadata": {
    "id": "mOxsb_GOHI3y",
    "colab_type": "code",
    "colab": {
     "autoexec": {
      "startup": false,
      "wait_interval": 0.0
     }
    }
   },
   "outputs": [],
   "source": [
    "A, B = sq_cube()"
   ]
  },
  {
   "cell_type": "code",
   "execution_count": 9,
   "metadata": {
    "id": "Y5Q8BdQTHI3z",
    "colab_type": "code",
    "colab": {
     "autoexec": {
      "startup": false,
      "wait_interval": 0.0
     }
    }
   },
   "outputs": [
    {
     "name": "stdout",
     "output_type": "stream",
     "text": [
      "Correct!\nCorrect!\nCorrect!\n"
     ]
    }
   ],
   "source": [
    "# Just run this cell after completing the function sq_cube.\n",
    "def compute_sq_cube(array):\n",
    "    m = [[0 for _ in range(len(array[0]))] for _ in range(len(array))]\n",
    "    for row_ in range(len(array)):\n",
    "        for col_ in range(len(array[row_])):\n",
    "            m[row_][col_] = array[row_][col_]**3 if array[row_][col_] % 2 == 0 else array[row_][col_]**2\n",
    "    return m\n",
    "sess = tf.InteractiveSession()\n",
    "for num in [5, 10, 20]:\n",
    "    x = np.array(range(num * num)).reshape([num, num])\n",
    "    b = sess.run(B, feed_dict={A: x})\n",
    "    res = compute_sq_cube(x.tolist())\n",
    "    if (abs(b - res) < 10**-10).all():\n",
    "        print(\"Correct!\")\n",
    "    else:\n",
    "        print(\"Incorrect.\")"
   ]
  },
  {
   "cell_type": "markdown",
   "metadata": {
    "id": "A8JgEswBHI32",
    "colab_type": "text"
   },
   "source": [
    "## 3. Tensorflow differentiation"
   ]
  },
  {
   "cell_type": "markdown",
   "metadata": {
    "id": "1kCk5IveHI33",
    "colab_type": "text"
   },
   "source": [
    "In this question, you will learn about tf.gradients. Essentially, tf.gradients(p,q) gives dp/dq. "
   ]
  },
  {
   "cell_type": "code",
   "execution_count": 55,
   "metadata": {
    "id": "OnI5N3q9HI33",
    "colab_type": "code",
    "colab": {
     "autoexec": {
      "startup": false,
      "wait_interval": 0.0
     }
    }
   },
   "outputs": [],
   "source": [
    "x = tf.placeholder(tf.float32)\n",
    "y = tf.sqrt(tf.square(x))\n",
    "dy_dx = tf.gradients(y, x)"
   ]
  },
  {
   "cell_type": "markdown",
   "metadata": {
    "id": "vkyKbw87HI36",
    "colab_type": "text"
   },
   "source": [
    "Essentially, y = x. And, as you know dy/dx = 1.  "
   ]
  },
  {
   "cell_type": "code",
   "execution_count": 58,
   "metadata": {
    "id": "E7tOERJIHI37",
    "colab_type": "code",
    "colab": {
     "autoexec": {
      "startup": false,
      "wait_interval": 0.0
     },
     "base_uri": "https://localhost:8080/",
     "height": 34.0
    },
    "outputId": "cbc24ae7-a6a9-41a8-927a-6f3665d747f9",
    "executionInfo": {
     "status": "ok",
     "timestamp": 1.527048932826E12,
     "user_tz": 180.0,
     "elapsed": 407.0,
     "user": {
      "displayName": "Chandramouli Shama Sastry",
      "photoUrl": "//lh5.googleusercontent.com/-bmEv2d9GMso/AAAAAAAAAAI/AAAAAAAAR20/37jyNvHZ_7o/s50-c-k-no/photo.jpg",
      "userId": "107292938983801620650"
     }
    }
   },
   "outputs": [
    {
     "data": {
      "text/plain": [
       "[1.0]"
      ]
     },
     "execution_count": 58,
     "metadata": {},
     "output_type": "execute_result"
    }
   ],
   "source": [
    "sess = tf.Session()\n",
    "sess.run(dy_dx, feed_dict={x: 10})"
   ]
  },
  {
   "cell_type": "markdown",
   "metadata": {
    "id": "TUoV3AeSHI39",
    "colab_type": "text"
   },
   "source": [
    "And it is 1! Now, let's try for some other values"
   ]
  },
  {
   "cell_type": "code",
   "execution_count": 56,
   "metadata": {
    "id": "qM2fZcRIHI3-",
    "colab_type": "code",
    "colab": {
     "autoexec": {
      "startup": false,
      "wait_interval": 0.0
     },
     "base_uri": "https://localhost:8080/",
     "height": 34.0
    },
    "outputId": "27f08cbe-10bc-4556-f0f6-53acda7c3688",
    "executionInfo": {
     "status": "ok",
     "timestamp": 1.527048935037E12,
     "user_tz": 180.0,
     "elapsed": 290.0,
     "user": {
      "displayName": "Chandramouli Shama Sastry",
      "photoUrl": "//lh5.googleusercontent.com/-bmEv2d9GMso/AAAAAAAAAAI/AAAAAAAAR20/37jyNvHZ_7o/s50-c-k-no/photo.jpg",
      "userId": "107292938983801620650"
     }
    }
   },
   "outputs": [
    {
     "data": {
      "text/plain": [
       "[nan]"
      ]
     },
     "execution_count": 56,
     "metadata": {},
     "output_type": "execute_result"
    }
   ],
   "source": [
    "sess.run(dy_dx, feed_dict={x: 0})"
   ]
  },
  {
   "cell_type": "code",
   "execution_count": 50,
   "metadata": {
    "id": "WRq9u71JHI4A",
    "colab_type": "code",
    "colab": {
     "autoexec": {
      "startup": false,
      "wait_interval": 0.0
     },
     "base_uri": "https://localhost:8080/",
     "height": 34.0
    },
    "outputId": "bed0017e-8609-42df-db09-6dbae81aa6a7",
    "executionInfo": {
     "status": "ok",
     "timestamp": 1.527048938024E12,
     "user_tz": 180.0,
     "elapsed": 384.0,
     "user": {
      "displayName": "Chandramouli Shama Sastry",
      "photoUrl": "//lh5.googleusercontent.com/-bmEv2d9GMso/AAAAAAAAAAI/AAAAAAAAR20/37jyNvHZ_7o/s50-c-k-no/photo.jpg",
      "userId": "107292938983801620650"
     }
    },
    "collapsed": true
   },
   "outputs": [
    {
     "data": {
      "text/plain": [
       "[inf]"
      ]
     },
     "execution_count": 50,
     "metadata": {},
     "output_type": "execute_result"
    }
   ],
   "source": [
    "sess.run(dy_dx, feed_dict={x: 10**-20})"
   ]
  },
  {
   "cell_type": "markdown",
   "metadata": {
    "id": "MJQ2--2mHI4C",
    "colab_type": "text"
   },
   "source": [
    "Oops! We got nan and inf even though the derivative(limit) exists!! Explain why.\n",
    "\n",
    "<b>Answer 1 x=0:</b> <i>Let f(x)=sqrt(x^2^). Then f'(x)=x/sqrt(x^2^) by the chain rule. When x=0, Tensorflow's computational graph notices that the denominator is 0, and hence it produces a NaN result because we can't divide by 0. Tensorflow does not simplify f'(x), which is why we get a NaN result here. It is also important to notice that f'(x) does not exist at x=0 from a mathematical standpoint.</i>\n",
    "\n",
    "<b>Answer 2 x=10^-20^:</b> <i>The placeholder x has the data type float32, which is a 32-bit single-precision floating point. The minimum positive normal value that can be stored in a float32 data type is 2^-126^ which is approximately equal to 1.18 * 10^-38^. When computing sqrt(x^2^) to get y, we are first computing x^2^, and x^2^ for x=10^-20^ is equal to 10^-40^, which is smaller than the minimum value of float32. This means that it overflowed / went of of bounds of the single precision floating point, and the exponent will be all 1's and and the fraction will be all 0's, which by the definition of IEEE single precision floating points results in infinity.</i>\n",
    "\n",
    "\n",
    "Further, come up with another function of x which shows similar behavior and demonstrate it below. Do not use trivial modifications of the above function like (x\\*\\*3)**1/3. In other words, demonstrate a function which gives the derivative as equal to nan/inf even though the derivative is defined. "
   ]
  },
  {
   "cell_type": "code",
   "execution_count": 59,
   "metadata": {
    "id": "h1h_avVbHI4C",
    "colab_type": "code",
    "colab": {
     "autoexec": {
      "startup": false,
      "wait_interval": 0.0
     }
    }
   },
   "outputs": [],
   "source": [
    "x = tf.placeholder(tf.float32)\n",
    "y = tf.divide(tf.sin(x), x)\n",
    "dy_dx = tf.gradients(y, x)"
   ]
  },
  {
   "cell_type": "code",
   "execution_count": 60,
   "metadata": {},
   "outputs": [
    {
     "data": {
      "text/plain": [
       "[-0.078466937]"
      ]
     },
     "execution_count": 60,
     "metadata": {},
     "output_type": "execute_result"
    }
   ],
   "source": [
    "sess = tf.Session()\n",
    "sess.run(dy_dx, feed_dict={x: 10})"
   ]
  },
  {
   "cell_type": "code",
   "execution_count": 61,
   "metadata": {},
   "outputs": [
    {
     "data": {
      "text/plain": [
       "[nan]"
      ]
     },
     "execution_count": 61,
     "metadata": {},
     "output_type": "execute_result"
    }
   ],
   "source": [
    "sess.run(dy_dx, feed_dict={x: 0})"
   ]
  },
  {
   "cell_type": "markdown",
   "metadata": {
    "id": "quJmBUClMzSj",
    "colab_type": "text"
   },
   "source": [
    "## Links"
   ]
  },
  {
   "cell_type": "markdown",
   "metadata": {
    "id": "2bsPZRfQM2X6",
    "colab_type": "code",
    "colab": {
     "autoexec": {
      "startup": false,
      "wait_interval": 0.0
     }
    }
   },
   "source": [
    "- http://organicchemist.us/organichem/my_pages/absvalder.html\n",
    "- Section 3.3 at: http://www.toves.org/books/float/\n",
    "- https://en.wikipedia.org/wiki/Single-precision_floating-point_format\n",
    "- https://www.tensorflow.org/api_docs/python/tf/DType\n",
    "- http://www.wolframalpha.com/input/?i=derivative+sqrt(x%5E2)\n"
   ]
  }
 ],
 "metadata": {
  "colab": {
   "name": "A2.ipynb",
   "version": "0.3.2",
   "views": {},
   "default_view": {},
   "provenance": [],
   "collapsed_sections": []
  },
  "kernelspec": {
   "display_name": "Python 2",
   "language": "python",
   "name": "python2"
  }
 },
 "nbformat": 4,
 "nbformat_minor": 0
}