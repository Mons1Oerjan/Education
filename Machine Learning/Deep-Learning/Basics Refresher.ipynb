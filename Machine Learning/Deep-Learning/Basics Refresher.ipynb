{
 "cells": [
  {
   "cell_type": "markdown",
   "metadata": {
    "id": "ejX1jQDdiSrA",
    "colab_type": "text"
   },
   "source": [
    "## <center> CSCI 4190/6908 : Tensorflow Basics</center>"
   ]
  },
  {
   "cell_type": "markdown",
   "metadata": {
    "id": "QPzA0K3biSrB",
    "colab_type": "text"
   },
   "source": [
    "This is a tutorial on fundamental ideas of Tensorflow. This notes is just a starting point. You are encouraged to find out more. The ideal use of this notebook would be as a reference which you keep updating as you learn new things. \n",
    "\n",
    "<b>Credits:</b> Content presented in this tutorial is what I have learnt from my teachers, friends and the python community on stackoverflow. \n"
   ]
  },
  {
   "cell_type": "markdown",
   "metadata": {
    "id": "Dww7lOe2iSrC",
    "colab_type": "text"
   },
   "source": [
    "## Compute Graph ##"
   ]
  },
  {
   "cell_type": "markdown",
   "metadata": {
    "id": "MiKdIznZiSrD",
    "colab_type": "text"
   },
   "source": [
    "* Directed Acyclic Graph\n",
    "* Nodes having no parent nodes - Placeholders in Tensorflow [Inputs, Outputs]\n",
    "* Parameters/Transformations/Edges - Variables in Tensorflow "
   ]
  },
  {
   "cell_type": "markdown",
   "metadata": {
    "id": "8miyZVreiSrD",
    "colab_type": "text"
   },
   "source": [
    "## The 2  execution patterns"
   ]
  },
  {
   "cell_type": "markdown",
   "metadata": {
    "id": "hgtPZAsYiSrE",
    "colab_type": "text"
   },
   "source": [
    "* Build a graph. Use session as the interface to feed in values and to tap values of nodes constructed in the graph.\n",
    "* Eager - Imperative; works like numpy. You get output as you run. "
   ]
  },
  {
   "cell_type": "code",
   "execution_count": 1,
   "metadata": {
    "id": "di5bFJKciSrF",
    "colab_type": "code",
    "colab": {
     "autoexec": {
      "startup": false,
      "wait_interval": 0.0
     }
    }
   },
   "outputs": [
    {
     "ename": "AttributeError",
     "evalue": "module 'tensorflow' has no attribute 'enable_eager_execution'",
     "traceback": [
      "\u001b[0;31m---------------------------------------------------------------------------\u001b[0m",
      "\u001b[0;31mAttributeError\u001b[0m                            Traceback (most recent call last)",
      "\u001b[0;32m<ipython-input-1-c17304b127ac>\u001b[0m in \u001b[0;36m<module>\u001b[0;34m()\u001b[0m\n\u001b[1;32m      1\u001b[0m \u001b[0;32mimport\u001b[0m \u001b[0mtensorflow\u001b[0m \u001b[0;32mas\u001b[0m \u001b[0mtf\u001b[0m\u001b[0;34m\u001b[0m\u001b[0m\n\u001b[0;32m----> 2\u001b[0;31m \u001b[0mtf\u001b[0m\u001b[0;34m.\u001b[0m\u001b[0menable_eager_execution\u001b[0m\u001b[0;34m(\u001b[0m\u001b[0;34m)\u001b[0m\u001b[0;34m\u001b[0m\u001b[0m\n\u001b[0m\u001b[1;32m      3\u001b[0m \u001b[0mtfe\u001b[0m \u001b[0;34m=\u001b[0m \u001b[0mtf\u001b[0m\u001b[0;34m.\u001b[0m\u001b[0mcontrib\u001b[0m\u001b[0;34m.\u001b[0m\u001b[0meager\u001b[0m\u001b[0;34m\u001b[0m\u001b[0m\n",
      "\u001b[0;31mAttributeError\u001b[0m: module 'tensorflow' has no attribute 'enable_eager_execution'"
     ],
     "output_type": "error"
    }
   ],
   "source": [
    "import tensorflow as tf\n",
    "tf.enable_eager_execution()\n",
    "tfe = tf.contrib.eager"
   ]
  },
  {
   "cell_type": "code",
   "execution_count": 0,
   "metadata": {
    "id": "f97usIENiSrK",
    "colab_type": "code",
    "colab": {
     "autoexec": {
      "startup": false,
      "wait_interval": 0.0
     }
    }
   },
   "outputs": [],
   "source": [
    "import numpy as np"
   ]
  },
  {
   "cell_type": "markdown",
   "metadata": {
    "id": "OijIFjZqiSrN",
    "colab_type": "text"
   },
   "source": [
    "## Tensor - basic unit of representation"
   ]
  },
  {
   "cell_type": "markdown",
   "metadata": {
    "id": "eDPNIiaeiSrN",
    "colab_type": "text"
   },
   "source": [
    "* Tensor:\n",
    "    * [Formal] An nth-rank tensor in  m-dimensional space is a mathematical object that has n indices and m^n components and obeys certain transformation rules.\n",
    "    * [Informal] An n-dimensional matrix. "
   ]
  },
  {
   "cell_type": "markdown",
   "metadata": {
    "id": "Xq_5jNhQiSrP",
    "colab_type": "text"
   },
   "source": [
    "### tf.Variable, tf.Constant, tf.placeholder"
   ]
  },
  {
   "cell_type": "markdown",
   "metadata": {
    "id": "ih66E98piSrP",
    "colab_type": "text"
   },
   "source": [
    "Every tensor has:\n",
    "    - shape : integer/ None\n",
    "    - dtype : tf.[int|float][32|64|..]\n",
    "Main varieties of Tensors \n",
    "    - tf.Variable - Trainable; needs to be supplied with an initial_value\n",
    "    - tf.constant - Constant, Not Trainable; needs value\n",
    "    - tf.placeholder - External Value, Not Trainable; just shape and dtype. "
   ]
  },
  {
   "cell_type": "code",
   "execution_count": 0,
   "metadata": {
    "id": "VSdTdxT5iSrQ",
    "colab_type": "code",
    "colab": {
     "autoexec": {
      "startup": false,
      "wait_interval": 0.0
     }
    }
   },
   "outputs": [],
   "source": [
    "tfe.Variable(dtype=tf.float32,initial_value=np.random.randn(10,5))"
   ]
  },
  {
   "cell_type": "markdown",
   "metadata": {
    "id": "ZwWFTf2tiSrU",
    "colab_type": "text"
   },
   "source": [
    "### Transpose and reshape"
   ]
  },
  {
   "cell_type": "code",
   "execution_count": 0,
   "metadata": {
    "id": "5t6Nt3-BiSrU",
    "colab_type": "code",
    "colab": {
     "autoexec": {
      "startup": false,
      "wait_interval": 0.0
     }
    }
   },
   "outputs": [],
   "source": [
    "x = tf.constant(\n",
    "    [\n",
    "       [\n",
    "           [1,2],\n",
    "           [3,4]\n",
    "       ],\n",
    "\n",
    "       [\n",
    "           [5,6],\n",
    "           [7,8]\n",
    "       ],\n",
    "\n",
    "       [\n",
    "           [9,10],\n",
    "           [11,12]\n",
    "       ]\n",
    "    ])\n",
    "x_2d = tf.constant([[1,2],[3,4]])"
   ]
  },
  {
   "cell_type": "code",
   "execution_count": 0,
   "metadata": {
    "id": "P4sgaj64iSrW",
    "colab_type": "code",
    "colab": {
     "autoexec": {
      "startup": false,
      "wait_interval": 0.0
     }
    }
   },
   "outputs": [],
   "source": [
    "tf.shape(x)"
   ]
  },
  {
   "cell_type": "code",
   "execution_count": 0,
   "metadata": {
    "id": "7zpxKXpsiSra",
    "colab_type": "code",
    "colab": {
     "autoexec": {
      "startup": false,
      "wait_interval": 0.0
     }
    }
   },
   "outputs": [],
   "source": [
    "x.get_shape()"
   ]
  },
  {
   "cell_type": "markdown",
   "metadata": {
    "id": "cn7MHQSriSrd",
    "colab_type": "text"
   },
   "source": [
    "Difference?"
   ]
  },
  {
   "cell_type": "markdown",
   "metadata": {
    "id": "gZCBFgQ_iSre",
    "colab_type": "text"
   },
   "source": [
    "<b> Transpose </b>"
   ]
  },
  {
   "cell_type": "code",
   "execution_count": 0,
   "metadata": {
    "id": "RFkk9mbmiSrf",
    "colab_type": "code",
    "colab": {
     "autoexec": {
      "startup": false,
      "wait_interval": 0.0
     }
    }
   },
   "outputs": [],
   "source": [
    "tf.transpose(x)"
   ]
  },
  {
   "cell_type": "code",
   "execution_count": 0,
   "metadata": {
    "id": "C8wuWbotiSrh",
    "colab_type": "code",
    "colab": {
     "autoexec": {
      "startup": false,
      "wait_interval": 0.0
     }
    }
   },
   "outputs": [],
   "source": [
    "tf.transpose(x,perm=[1,0,2])"
   ]
  },
  {
   "cell_type": "markdown",
   "metadata": {
    "id": "mX2WRerOiSrk",
    "colab_type": "text"
   },
   "source": [
    "<b> Reshape </b>"
   ]
  },
  {
   "cell_type": "code",
   "execution_count": 0,
   "metadata": {
    "id": "YPQCVxCCiSrk",
    "colab_type": "code",
    "colab": {
     "autoexec": {
      "startup": false,
      "wait_interval": 0.0
     }
    }
   },
   "outputs": [],
   "source": [
    "tf.reshape(x,[-1,1])"
   ]
  },
  {
   "cell_type": "code",
   "execution_count": 0,
   "metadata": {
    "id": "gTujOUmbiSro",
    "colab_type": "code",
    "colab": {
     "autoexec": {
      "startup": false,
      "wait_interval": 0.0
     }
    }
   },
   "outputs": [],
   "source": [
    "tf.reshape(x,[1,-1])"
   ]
  },
  {
   "cell_type": "code",
   "execution_count": 0,
   "metadata": {
    "id": "vwpqVtbHiSrs",
    "colab_type": "code",
    "colab": {
     "autoexec": {
      "startup": false,
      "wait_interval": 0.0
     }
    }
   },
   "outputs": [],
   "source": [
    "tf.reshape(x,[4,3])"
   ]
  },
  {
   "cell_type": "markdown",
   "metadata": {
    "id": "S9ecFPogiSrw",
    "colab_type": "text"
   },
   "source": [
    "#### Exercise"
   ]
  },
  {
   "cell_type": "markdown",
   "metadata": {
    "id": "amk708m9iSrw",
    "colab_type": "text"
   },
   "source": [
    "Reshape x such that column 1 has [1,2,3,4]; column 2 has [5,6,7,8] and column 3 has [9,10,11,12]. "
   ]
  },
  {
   "cell_type": "code",
   "execution_count": 0,
   "metadata": {
    "id": "DFeh8koviSrx",
    "colab_type": "code",
    "colab": {
     "autoexec": {
      "startup": false,
      "wait_interval": 0.0
     }
    }
   },
   "outputs": [],
   "source": [
    "tf.transpose(tf.reshape(x, [3, 4]))"
   ]
  },
  {
   "cell_type": "markdown",
   "metadata": {
    "id": "WGEfdTGCiSr0",
    "colab_type": "text"
   },
   "source": [
    "## Arithmetic operations "
   ]
  },
  {
   "cell_type": "markdown",
   "metadata": {
    "id": "xXzysdhoiSr0",
    "colab_type": "text"
   },
   "source": [
    "<b> Addition/Subtraction </b>"
   ]
  },
  {
   "cell_type": "code",
   "execution_count": 0,
   "metadata": {
    "id": "qqyO0VrxiSr1",
    "colab_type": "code",
    "colab": {
     "autoexec": {
      "startup": false,
      "wait_interval": 0.0
     }
    }
   },
   "outputs": [],
   "source": [
    "x"
   ]
  },
  {
   "cell_type": "code",
   "execution_count": 0,
   "metadata": {
    "id": "90OD_SENiSr3",
    "colab_type": "code",
    "colab": {
     "autoexec": {
      "startup": false,
      "wait_interval": 0.0
     }
    }
   },
   "outputs": [],
   "source": [
    "x + 1"
   ]
  },
  {
   "cell_type": "code",
   "execution_count": 0,
   "metadata": {
    "id": "QTyW6eBViSr6",
    "colab_type": "code",
    "colab": {
     "autoexec": {
      "startup": false,
      "wait_interval": 0.0
     }
    }
   },
   "outputs": [],
   "source": [
    "x + x"
   ]
  },
  {
   "cell_type": "markdown",
   "metadata": {
    "id": "k1Tz0umiiSr9",
    "colab_type": "text"
   },
   "source": [
    "<b> Multiplication </b>"
   ]
  },
  {
   "cell_type": "code",
   "execution_count": 0,
   "metadata": {
    "id": "paXk25c7iSr9",
    "colab_type": "code",
    "colab": {
     "autoexec": {
      "startup": false,
      "wait_interval": 0.0
     }
    }
   },
   "outputs": [],
   "source": [
    "x * 5"
   ]
  },
  {
   "cell_type": "code",
   "execution_count": 0,
   "metadata": {
    "id": "GnuWV5ZNiSsC",
    "colab_type": "code",
    "colab": {
     "autoexec": {
      "startup": false,
      "wait_interval": 0.0
     }
    }
   },
   "outputs": [],
   "source": [
    "x * x"
   ]
  },
  {
   "cell_type": "code",
   "execution_count": 0,
   "metadata": {
    "id": "96auq6yRiSsE",
    "colab_type": "code",
    "colab": {
     "autoexec": {
      "startup": false,
      "wait_interval": 0.0
     }
    }
   },
   "outputs": [],
   "source": [
    "tf.matmul(x_2d,x_2d)"
   ]
  },
  {
   "cell_type": "markdown",
   "metadata": {
    "id": "tp3JHXoiiSsG",
    "colab_type": "text"
   },
   "source": [
    "<b> Division </b>"
   ]
  },
  {
   "cell_type": "code",
   "execution_count": 0,
   "metadata": {
    "id": "qdkPAdmoiSsI",
    "colab_type": "code",
    "colab": {
     "autoexec": {
      "startup": false,
      "wait_interval": 0.0
     }
    }
   },
   "outputs": [],
   "source": [
    "from __future__ import division\n",
    "x_2d/3"
   ]
  },
  {
   "cell_type": "code",
   "execution_count": 0,
   "metadata": {
    "id": "zOPYcM4UiSsL",
    "colab_type": "code",
    "colab": {
     "autoexec": {
      "startup": false,
      "wait_interval": 0.0
     }
    }
   },
   "outputs": [],
   "source": [
    "x_2d/x_2d"
   ]
  },
  {
   "cell_type": "markdown",
   "metadata": {
    "id": "Oy_VIOhciSsO",
    "colab_type": "text"
   },
   "source": [
    "<b> Broadcasting </b> <br>\n",
    "Broadcasting is \"auto-correction\" of one of the arguments in order to bring them to the correct dimensions. \n",
    "* Replicates the 1/more dimensions of one or both the tensors to match them.\n",
    "* From Scipy:\n",
    "<pre>\n",
    "When operating on two arrays, NumPy compares their shapes element-wise. It starts with the trailing dimensions, and works its way forward. Two dimensions are compatible when\n",
    "    * they are equal, or\n",
    "    * one of them is 1\n",
    "</pre>\n",
    "* Makes a best effort to auto-correct; throws error if it cannot. \n",
    "* Not applicable to all operators."
   ]
  },
  {
   "cell_type": "code",
   "execution_count": 0,
   "metadata": {
    "id": "qoI_DMziiSsP",
    "colab_type": "code",
    "colab": {
     "autoexec": {
      "startup": false,
      "wait_interval": 0.0
     }
    }
   },
   "outputs": [],
   "source": [
    "x_2d"
   ]
  },
  {
   "cell_type": "code",
   "execution_count": 0,
   "metadata": {
    "id": "a5TA2WW1iSsU",
    "colab_type": "code",
    "colab": {
     "autoexec": {
      "startup": false,
      "wait_interval": 0.0
     }
    }
   },
   "outputs": [],
   "source": [
    "y = np.array([[1,2]])\n",
    "print(y.shape)\n",
    "x_2d + y"
   ]
  },
  {
   "cell_type": "code",
   "execution_count": 0,
   "metadata": {
    "id": "nf3JFR5DiSsX",
    "colab_type": "code",
    "colab": {
     "autoexec": {
      "startup": false,
      "wait_interval": 0.0
     }
    }
   },
   "outputs": [],
   "source": [
    "y = np.array([[1],[2]])\n",
    "print(y.shape)\n",
    "x_2d + y"
   ]
  },
  {
   "cell_type": "code",
   "execution_count": 0,
   "metadata": {
    "id": "bG9oDK_HiSsZ",
    "colab_type": "code",
    "colab": {
     "autoexec": {
      "startup": false,
      "wait_interval": 0.0
     }
    }
   },
   "outputs": [],
   "source": [
    "y = np.array([[1,2]])\n",
    "print(y.shape)\n",
    "x * y"
   ]
  },
  {
   "cell_type": "code",
   "execution_count": 0,
   "metadata": {
    "id": "8amS--kWiSse",
    "colab_type": "code",
    "colab": {
     "autoexec": {
      "startup": false,
      "wait_interval": 0.0
     }
    }
   },
   "outputs": [],
   "source": [
    "y = np.array([[1],[2]])\n",
    "print(y.shape)\n",
    "x_2d * y"
   ]
  },
  {
   "cell_type": "code",
   "execution_count": 0,
   "metadata": {
    "id": "UjRVjJJOiSsg",
    "colab_type": "code",
    "colab": {
     "autoexec": {
      "startup": false,
      "wait_interval": 0.0
     }
    }
   },
   "outputs": [],
   "source": [
    "y = np.array([[1,2]])\n",
    "print(y.shape)\n",
    "x_2d / y"
   ]
  },
  {
   "cell_type": "code",
   "execution_count": 0,
   "metadata": {
    "id": "ydMTdHaIiSsi",
    "colab_type": "code",
    "colab": {
     "autoexec": {
      "startup": false,
      "wait_interval": 0.0
     }
    }
   },
   "outputs": [],
   "source": [
    "y = np.array([[1],[2]])\n",
    "print(y.shape)\n",
    "x_2d / y"
   ]
  },
  {
   "cell_type": "markdown",
   "metadata": {
    "id": "6bdqFpLViSsl",
    "colab_type": "text"
   },
   "source": [
    "<b>Perils of broadcasting</b>"
   ]
  },
  {
   "cell_type": "code",
   "execution_count": 0,
   "metadata": {
    "id": "dQn9eEmSiSsl",
    "colab_type": "code",
    "colab": {
     "autoexec": {
      "startup": false,
      "wait_interval": 0.0
     }
    }
   },
   "outputs": [],
   "source": [
    "p = tf.constant([[1],[2],[3]])\n",
    "q = tf.constant([[4,5,6]])\n",
    "print p.shape,q.shape\n",
    "p+q"
   ]
  },
  {
   "cell_type": "markdown",
   "metadata": {
    "id": "khVJIk4XiSso",
    "colab_type": "text"
   },
   "source": [
    "## Idea of axis"
   ]
  },
  {
   "cell_type": "code",
   "execution_count": 0,
   "metadata": {
    "id": "8bOFToI7iSsp",
    "colab_type": "code",
    "colab": {
     "autoexec": {
      "startup": false,
      "wait_interval": 0.0
     }
    }
   },
   "outputs": [],
   "source": [
    "x_2d"
   ]
  },
  {
   "cell_type": "code",
   "execution_count": 0,
   "metadata": {
    "id": "6SIO4RS9iSsu",
    "colab_type": "code",
    "colab": {
     "autoexec": {
      "startup": false,
      "wait_interval": 0.0
     }
    }
   },
   "outputs": [],
   "source": [
    "tf.nn.softmax(tf.cast(x_2d,dtype=tf.float32),axis=1)"
   ]
  },
  {
   "cell_type": "code",
   "execution_count": 0,
   "metadata": {
    "id": "hdLIvMKwiSsx",
    "colab_type": "code",
    "colab": {
     "autoexec": {
      "startup": false,
      "wait_interval": 0.0
     }
    }
   },
   "outputs": [],
   "source": [
    "tf.nn.softmax(tf.cast(x_2d,dtype=tf.float32),axis=0)"
   ]
  },
  {
   "cell_type": "markdown",
   "metadata": {
    "id": "uIl-4WSqiSs0",
    "colab_type": "text"
   },
   "source": [
    "## Reduce_* functions"
   ]
  },
  {
   "cell_type": "code",
   "execution_count": 0,
   "metadata": {
    "id": "ijw0QPyPiSs0",
    "colab_type": "code",
    "colab": {
     "autoexec": {
      "startup": false,
      "wait_interval": 0.0
     }
    }
   },
   "outputs": [],
   "source": [
    "tf.reduce_sum(x_2d)"
   ]
  },
  {
   "cell_type": "code",
   "execution_count": 0,
   "metadata": {
    "id": "jozaHYPDiSs2",
    "colab_type": "code",
    "colab": {
     "autoexec": {
      "startup": false,
      "wait_interval": 0.0
     }
    }
   },
   "outputs": [],
   "source": [
    "tf.reduce_sum(x_2d,axis=0)"
   ]
  },
  {
   "cell_type": "code",
   "execution_count": 0,
   "metadata": {
    "id": "35ucLMG-iSs8",
    "colab_type": "code",
    "colab": {
     "autoexec": {
      "startup": false,
      "wait_interval": 0.0
     }
    }
   },
   "outputs": [],
   "source": [
    "tf.reduce_sum(x_2d,axis=1)"
   ]
  },
  {
   "cell_type": "code",
   "execution_count": 0,
   "metadata": {
    "id": "ysnG16M4iStA",
    "colab_type": "code",
    "colab": {
     "autoexec": {
      "startup": false,
      "wait_interval": 0.0
     }
    }
   },
   "outputs": [],
   "source": [
    "tf.reduce_sum(x_2d,axis=1,keepdims=True)"
   ]
  },
  {
   "cell_type": "code",
   "execution_count": 0,
   "metadata": {
    "id": "HmKqqB1piStC",
    "colab_type": "code",
    "colab": {
     "autoexec": {
      "startup": false,
      "wait_interval": 0.0
     }
    }
   },
   "outputs": [],
   "source": [
    "tf.reduce_sum(x_2d,reduction_indices=[1])"
   ]
  },
  {
   "cell_type": "markdown",
   "metadata": {
    "id": "vmPPse_5iStE",
    "colab_type": "text"
   },
   "source": [
    "<b> Exercise </b> <br>\n",
    "Find the sum of each of the 2x2 matrices of x."
   ]
  },
  {
   "cell_type": "code",
   "execution_count": 0,
   "metadata": {
    "id": "w-pq-T4PiStE",
    "colab_type": "code",
    "colab": {
     "autoexec": {
      "startup": false,
      "wait_interval": 0.0
     }
    }
   },
   "outputs": [],
   "source": [
    "x"
   ]
  },
  {
   "cell_type": "code",
   "execution_count": 0,
   "metadata": {
    "id": "2ymty4P1iStH",
    "colab_type": "code",
    "colab": {
     "autoexec": {
      "startup": false,
      "wait_interval": 0.0
     }
    }
   },
   "outputs": [],
   "source": [
    "tf.reduce_sum(x,reduction_indices=[1,2])"
   ]
  },
  {
   "cell_type": "markdown",
   "metadata": {
    "id": "0GYC6c3GiStI",
    "colab_type": "text"
   },
   "source": [
    "## tf.boolean_mask"
   ]
  },
  {
   "cell_type": "code",
   "execution_count": 0,
   "metadata": {
    "id": "CdzKT02IiStI",
    "colab_type": "code",
    "colab": {
     "autoexec": {
      "startup": false,
      "wait_interval": 0.0
     }
    }
   },
   "outputs": [],
   "source": [
    "x = tf.constant([1,2,3,4,5,6,7,8,0,0,0,0])\n",
    "condition = tf.not_equal(x,tf.constant(0))\n",
    "tf.boolean_mask(x,condition)"
   ]
  },
  {
   "cell_type": "markdown",
   "metadata": {
    "id": "Jgn2cfekiStL",
    "colab_type": "text"
   },
   "source": [
    "## tf.where "
   ]
  },
  {
   "cell_type": "markdown",
   "metadata": {
    "id": "4EbPRJqsiStL",
    "colab_type": "text"
   },
   "source": [
    "Use value in x if it is non-zero, else use 10**-5.\n",
    "<pre> tf.where(condition, A if True, B if False); A and B should have same shape. </pre>"
   ]
  },
  {
   "cell_type": "code",
   "execution_count": 0,
   "metadata": {
    "id": "IekDRKaMiStL",
    "colab_type": "code",
    "colab": {
     "autoexec": {
      "startup": false,
      "wait_interval": 0.0
     }
    }
   },
   "outputs": [],
   "source": [
    "x = tf.constant([1,2,3,4,5,6,7,8,0,0,0,0],dtype=tf.float32)\n",
    "condition = tf.not_equal(x,tf.constant(0.0))\n",
    "tf.where(condition,x,x+10**-5)"
   ]
  },
  {
   "cell_type": "code",
   "execution_count": 0,
   "metadata": {
    "id": "cbLgAFGPiStO",
    "colab_type": "code",
    "colab": {
     "autoexec": {
      "startup": false,
      "wait_interval": 0.0
     }
    }
   },
   "outputs": [],
   "source": [
    ""
   ]
  }
 ],
 "metadata": {
  "colab": {
   "name": "Basics Refresher.ipynb",
   "version": "0.3.2",
   "views": {},
   "default_view": {},
   "provenance": [],
   "collapsed_sections": [
    "S9ecFPogiSrw",
    "WGEfdTGCiSr0",
    "khVJIk4XiSso",
    "uIl-4WSqiSs0",
    "0GYC6c3GiStI",
    "Jgn2cfekiStL"
   ]
  },
  "kernelspec": {
   "display_name": "Python 2",
   "language": "python",
   "name": "python2"
  }
 },
 "nbformat": 4,
 "nbformat_minor": 0
}